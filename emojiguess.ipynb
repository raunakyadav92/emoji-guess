{
  "nbformat": 4,
  "nbformat_minor": 0,
  "metadata": {
    "colab": {
      "provenance": [],
      "authorship_tag": "ABX9TyN1CHyvwQFjLe6hImaC8CAe",
      "include_colab_link": true
    },
    "kernelspec": {
      "name": "python3",
      "display_name": "Python 3"
    },
    "language_info": {
      "name": "python"
    }
  },
  "cells": [
    {
      "cell_type": "markdown",
      "metadata": {
        "id": "view-in-github",
        "colab_type": "text"
      },
      "source": [
        "<a href=\"https://colab.research.google.com/github/raunakyadav92/emoji-guess/blob/main/emojiguess.ipynb\" target=\"_parent\"><img src=\"https://colab.research.google.com/assets/colab-badge.svg\" alt=\"Open In Colab\"/></a>"
      ]
    },
    {
      "cell_type": "code",
      "execution_count": null,
      "metadata": {
        "id": "i-8EC81mMuvC"
      },
      "outputs": [],
      "source": [
        "import random\n",
        "\n",
        "questions = {\n",
        "    \"🍎📱\": \"Apple\",\n",
        "    \"👑🦁\": \"Lion King\",\n",
        "    \"🚗💨\": \"Fast Car\",\n",
        "    \"🎬🍿\": \"Movie\",\n",
        "    \"📚🎓\": \"Education\",\n",
        "    \"🌧️☔\": \"Rain\",\n",
        "    \"🐍👨‍💻\": \"Python Programmer\",\n",
        "    \"💡⚡\": \"Idea\",\n",
        "    \"🎧🎵\": \"Music\",\n",
        "    \"💻🌐\": \"Internet\"\n",
        "}\n",
        "\n",
        "emojis = list(questions.keys())\n",
        "score = 0\n",
        "\n",
        "print(\"🤔 Welcome to Emoji Guess Game! 🤔\\nGuess the word/phrase from emoji hints!\\n\")\n",
        "\n",
        "for i in range(5):  # You can increase rounds\n",
        "    emoji = random.choice(emojis)\n",
        "    print(f\"Q{i+1}: What does this mean? {emoji}\")\n",
        "    answer = input(\"Your Answer: \").strip().lower()\n",
        "\n",
        "    if answer == questions[emoji].lower():\n",
        "        print(\"✅ Correct!\\n\")\n",
        "        score += 1\n",
        "    else:\n",
        "        print(f\"❌ Wrong! Correct Answer: {questions[emoji]}\\n\")\n",
        "\n",
        "print(f\"🎯 Your Final Score: {score}/5\")\n"
      ]
    }
  ]
}